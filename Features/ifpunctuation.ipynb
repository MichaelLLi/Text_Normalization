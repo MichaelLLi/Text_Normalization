{
 "cells": [
  {
   "cell_type": "code",
   "execution_count": null,
   "metadata": {
    "collapsed": true
   },
   "outputs": [],
   "source": [
    "import numpy as np\n",
    "\n",
    "def ifpunctuation(a):\n",
    "    # accept input argument as numpy array of n rows and 3 columns\n",
    "    \n",
    "    #define an array of punctuation, could alt try to import a package\n",
    "    pun_array = np.array([\".\",\",\",\"?\",\":\",\";\"])\n",
    "    \n",
    "    #create the output shape\n",
    "    output = np.zeros((np.shape(a)[0],3))\n",
    "    \n",
    "    #create the arrays for the next, previous and unshifted\n",
    "    #note this does not consider if the word is in the same sentence as the prev or next one\n",
    "    next_element = np.append(a[0:,2],np.nan)\n",
    "    next_element = np.delete(next_element,0)\n",
    "    this_element=a[:,2]\n",
    "    previous_element=np.insert(a[:-1,2],0,np.NaN)\n",
    "    \n",
    "    #Fill in the output array with 1,0 indicating if the element is punctuation\n",
    "    output[:,0] = np.isin(previous_element, pun_array)\n",
    "    output[:,1] = np.isin(this_element, pun_array)\n",
    "    output[:,2] = np.isin(next_element, pun_array)\n",
    "    \n",
    "    return output"
   ]
  }
 ],
 "metadata": {
  "kernelspec": {
   "display_name": "Python 3",
   "language": "python",
   "name": "python3"
  },
  "language_info": {
   "codemirror_mode": {
    "name": "ipython",
    "version": 3
   },
   "file_extension": ".py",
   "mimetype": "text/x-python",
   "name": "python",
   "nbconvert_exporter": "python",
   "pygments_lexer": "ipython3",
   "version": "3.6.1"
  }
 },
 "nbformat": 4,
 "nbformat_minor": 2
}
